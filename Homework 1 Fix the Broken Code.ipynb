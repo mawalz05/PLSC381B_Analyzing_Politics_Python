{
 "cells": [
  {
   "cell_type": "code",
   "execution_count": 1,
   "metadata": {},
   "outputs": [
    {
     "ename": "SyntaxError",
     "evalue": "EOL while scanning string literal (<ipython-input-1-be4761077a98>, line 8)",
     "output_type": "error",
     "traceback": [
      "\u001b[1;36m  File \u001b[1;32m\"<ipython-input-1-be4761077a98>\"\u001b[1;36m, line \u001b[1;32m8\u001b[0m\n\u001b[1;33m    height = 6'0\"\u001b[0m\n\u001b[1;37m                 ^\u001b[0m\n\u001b[1;31mSyntaxError\u001b[0m\u001b[1;31m:\u001b[0m EOL while scanning string literal\n"
     ]
    }
   ],
   "source": [
    "# You may only change the variable values, not the variable names. \n",
    "# You may not use any numbers in your print statements, only the variable names.\n",
    "# You must use the if-else statements included below in your final code.\n",
    "# Make sure to use as many comments as appropriate so I can understand what you are doing with your code.\n",
    "\n",
    "age = 22\n",
    "weight = \"One hundred seventy five lbs\"\n",
    "height = 6'0\"\n",
    "gender = male\n",
    "\n",
    "height_meters = height*.3084\n",
    "weight_kilograms = weight*0.453592\n",
    "BMI = weight_kilograms/height^2\n",
    "      \n",
    "if BMI < 24.9:\n",
    "      print(\"Yes, that's a healthy BMI\")\n",
    "else:\n",
    "      print(\"No, that's not a healthy BMI\")\n",
    "\n",
    "BMI_2 = ??? \n",
    "\n",
    "if BMI < 24.9:\n",
    "    print(\"Yes, that is a healthy BMI\")\n",
    "else:\n",
    "    print(\"No, that's not a healthy BMI\")\n"
   ]
  }
 ],
 "metadata": {
  "kernelspec": {
   "display_name": "Python 3",
   "language": "python",
   "name": "python3"
  },
  "language_info": {
   "codemirror_mode": {
    "name": "ipython",
    "version": 3
   },
   "file_extension": ".py",
   "mimetype": "text/x-python",
   "name": "python",
   "nbconvert_exporter": "python",
   "pygments_lexer": "ipython3",
   "version": "3.6.10"
  }
 },
 "nbformat": 4,
 "nbformat_minor": 2
}
