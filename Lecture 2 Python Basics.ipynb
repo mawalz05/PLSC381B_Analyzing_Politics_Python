{
 "cells": [
  {
   "cell_type": "code",
   "execution_count": 19,
   "metadata": {},
   "outputs": [
    {
     "name": "stdout",
     "output_type": "stream",
     "text": [
      "4\n",
      "16\n"
     ]
    }
   ],
   "source": [
    "# Python as a calculator\n",
    "\n",
    "print(2 + 2)\n",
    "print(4 ** 2) "
   ]
  },
  {
   "cell_type": "code",
   "execution_count": 20,
   "metadata": {},
   "outputs": [
    {
     "name": "stdout",
     "output_type": "stream",
     "text": [
      "4\n",
      "2 + 2\n"
     ]
    }
   ],
   "source": [
    "# Variable Assignment\n",
    "numeric_var = 2 + 2\n",
    "string_var = \"2 + 2\"\n",
    "\n",
    "print(numeric_var)\n",
    "print(string_var)"
   ]
  },
  {
   "cell_type": "code",
   "execution_count": 23,
   "metadata": {},
   "outputs": [
    {
     "name": "stdout",
     "output_type": "stream",
     "text": [
      "10\n",
      "2 + 23 + 3\n"
     ]
    }
   ],
   "source": [
    "print(2 + 2 + 3 + 3)\n",
    "print('2 + 2' + '3 + 3')"
   ]
  },
  {
   "cell_type": "code",
   "execution_count": 26,
   "metadata": {},
   "outputs": [
    {
     "name": "stdout",
     "output_type": "stream",
     "text": [
      "There are 12 months in a year\n"
     ]
    }
   ],
   "source": [
    "print('There are ' + '12' + ' months in a year')"
   ]
  },
  {
   "cell_type": "code",
   "execution_count": 27,
   "metadata": {},
   "outputs": [
    {
     "name": "stdout",
     "output_type": "stream",
     "text": [
      "There are 12 months in a year\n"
     ]
    }
   ],
   "source": [
    "# Variable Types\n",
    "var = 12\n",
    "print(f'There are {var} months in a year')"
   ]
  },
  {
   "cell_type": "code",
   "execution_count": 28,
   "metadata": {},
   "outputs": [
    {
     "name": "stdout",
     "output_type": "stream",
     "text": [
      "<class 'int'>\n",
      "<class 'float'>\n",
      "<class 'str'>\n"
     ]
    }
   ],
   "source": [
    "print(type(var))\n",
    "print(type(12.00))\n",
    "print(type('This is a string'))"
   ]
  },
  {
   "cell_type": "code",
   "execution_count": 29,
   "metadata": {},
   "outputs": [
    {
     "name": "stdout",
     "output_type": "stream",
     "text": [
      "I started with $100 and now have $194.87171000000012. Awesome!\n"
     ]
    }
   ],
   "source": [
    "savings = 100\n",
    "result = 100 * 1.10 ** 7\n",
    "\n",
    "print(\"I started with $\" + str(savings) + \" and now have $\" + str(result) + \". Awesome!\")"
   ]
  },
  {
   "cell_type": "code",
   "execution_count": 30,
   "metadata": {},
   "outputs": [
    {
     "name": "stdout",
     "output_type": "stream",
     "text": [
      "I started with $100 and now have $194.87. Awesome!\n"
     ]
    }
   ],
   "source": [
    "print(\"I started with $\" + str(savings) + \" and now have $\" + str(round(result, 2)) + \". Awesome!\")"
   ]
  },
  {
   "cell_type": "code",
   "execution_count": 31,
   "metadata": {},
   "outputs": [
    {
     "name": "stdout",
     "output_type": "stream",
     "text": [
      "3.1415926\n",
      "3.1415926\n",
      "<class 'str'>\n",
      "<class 'float'>\n"
     ]
    }
   ],
   "source": [
    "pi_string = \"3.1415926\"\n",
    "print(pi_string)\n",
    "pi_float = float(pi_string)\n",
    "print(pi_float)\n",
    "print(type(pi_string))\n",
    "print(type(pi_float))"
   ]
  },
  {
   "cell_type": "code",
   "execution_count": 32,
   "metadata": {},
   "outputs": [
    {
     "name": "stdout",
     "output_type": "stream",
     "text": [
      "['a', 'b', 'c']\n",
      "[['liz', 1.73], ['emma', 1.68], ['mom', 1.71], ['dad', 1.89]]\n"
     ]
    }
   ],
   "source": [
    "# Python Lists\n",
    "letters = ['a','b','c']\n",
    "fam = [['liz', 1.73], ['emma', 1.68], ['mom', 1.71], ['dad', 1.89]]\n",
    "print(letters)\n",
    "print(fam)"
   ]
  },
  {
   "cell_type": "code",
   "execution_count": 33,
   "metadata": {},
   "outputs": [
    {
     "name": "stdout",
     "output_type": "stream",
     "text": [
      "[11.25, 18.0, 20.0, 10.75, 9.5]\n"
     ]
    }
   ],
   "source": [
    "# Printing Lists\n",
    "\n",
    "hall = 11.25\n",
    "kit = 18.0\n",
    "liv = 20.0\n",
    "bed = 10.75\n",
    "bath = 9.50\n",
    "\n",
    "areas = [hall,kit,liv,bed,bath]\n",
    "\n",
    "print(areas)"
   ]
  },
  {
   "cell_type": "code",
   "execution_count": 34,
   "metadata": {},
   "outputs": [
    {
     "name": "stdout",
     "output_type": "stream",
     "text": [
      "a\n",
      "b\n",
      "c\n",
      "c\n",
      "b\n",
      "a\n"
     ]
    }
   ],
   "source": [
    "# Accessing items in list using the index\n",
    "print(letters[0])\n",
    "print(letters[1])\n",
    "print(letters[2])\n",
    "print(letters[-1])\n",
    "print(letters[-2])\n",
    "print(letters[-3])"
   ]
  },
  {
   "cell_type": "code",
   "execution_count": 35,
   "metadata": {},
   "outputs": [
    {
     "name": "stdout",
     "output_type": "stream",
     "text": [
      "['a', 'b']\n",
      "['a', 'b', 'c']\n",
      "['a', 'b']\n"
     ]
    }
   ],
   "source": [
    "# List slicing\n",
    "print(letters[0:2])\n",
    "print(letters[0:])\n",
    "print(letters[:2])"
   ]
  },
  {
   "cell_type": "code",
   "execution_count": 36,
   "metadata": {},
   "outputs": [
    {
     "name": "stdout",
     "output_type": "stream",
     "text": [
      "1.68\n",
      "mom\n"
     ]
    }
   ],
   "source": [
    "print(fam[1][1])\n",
    "print(fam[2][0])"
   ]
  },
  {
   "cell_type": "code",
   "execution_count": 37,
   "metadata": {},
   "outputs": [
    {
     "name": "stdout",
     "output_type": "stream",
     "text": [
      "['a', 'b', 'c', 'd', 'e', 'f']\n",
      "['a', 'b', 'c', 'd', 'f']\n",
      "['g', 'b', 'c', 'd', 'f']\n"
     ]
    }
   ],
   "source": [
    "# Adding text to lists\n",
    "letters_ext = letters + ['d','e','f']\n",
    "print(letters_ext)\n",
    "\n",
    "# Deleting text from lists\n",
    "del(letters_ext[4])\n",
    "print(letters_ext)\n",
    "\n",
    "# Changing text from lists\n",
    "letters_ext[0] = 'g'\n",
    "print(letters_ext)"
   ]
  },
  {
   "cell_type": "code",
   "execution_count": 38,
   "metadata": {},
   "outputs": [
    {
     "name": "stdout",
     "output_type": "stream",
     "text": [
      "This is a sentence that we will use as an example.\n",
      "THIS IS A SENTENCE THAT WE WILL USE AS AN EXAMPLE.\n",
      "this is a sentence that we will use as an example.\n",
      "Xis is a sentence Xat we will use as an example.\n"
     ]
    }
   ],
   "source": [
    "Sentence = \"this is a sentence that we will use as an example.\"\n",
    "\n",
    "# Capitalize first letter\n",
    "print(Sentence.capitalize())\n",
    "\n",
    "# Capitalize whole sentence\n",
    "print(Sentence.upper())\n",
    "\n",
    "# Lower case whole sentence\n",
    "print(Sentence.lower())\n",
    "\n",
    "# Replace characters in a sentence\n",
    "print(Sentence.replace('th', 'X'))"
   ]
  },
  {
   "cell_type": "code",
   "execution_count": null,
   "metadata": {},
   "outputs": [],
   "source": []
  }
 ],
 "metadata": {
  "kernelspec": {
   "display_name": "Python 3",
   "language": "python",
   "name": "python3"
  },
  "language_info": {
   "codemirror_mode": {
    "name": "ipython",
    "version": 3
   },
   "file_extension": ".py",
   "mimetype": "text/x-python",
   "name": "python",
   "nbconvert_exporter": "python",
   "pygments_lexer": "ipython3",
   "version": "3.6.12"
  }
 },
 "nbformat": 4,
 "nbformat_minor": 2
}
