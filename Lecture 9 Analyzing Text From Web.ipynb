{
 "cells": [
  {
   "cell_type": "code",
   "execution_count": null,
   "metadata": {},
   "outputs": [],
   "source": [
    "import requests\n",
    "from bs4 import BeautifulSoup\n",
    "\n",
    "url = 'https://www.politico.com/news/2020/11/25/biden-leans-toward-donilon-as-cia-chief-440669'\n",
    "\n",
    "# Extracting the html from the webpage\n",
    "wp = requests.get(url)\n",
    "\n",
    "#Parsing the HTML so it is readable in jupyter notebook\n",
    "soup = BeautifulSoup(wp.content, 'html.parser')\n",
    "soup"
   ]
  },
  {
   "cell_type": "code",
   "execution_count": null,
   "metadata": {},
   "outputs": [],
   "source": [
    "# Creating an object body that contains the attributes we are looking for\n",
    "body = soup.find_all('p', attrs={'class': 'story-text__paragraph'})"
   ]
  },
  {
   "cell_type": "code",
   "execution_count": null,
   "metadata": {},
   "outputs": [],
   "source": [
    "# Creating a string of the body and viewing the contents\n",
    "body = str(body)\n",
    "body"
   ]
  },
  {
   "cell_type": "code",
   "execution_count": null,
   "metadata": {},
   "outputs": [],
   "source": [
    "# Using regex to remove patterns found in the text.\n",
    "import re\n",
    "\n",
    "body2 = re.sub('\\<p\\sclass\\=\\\"story\\-text\\_\\_paragraph\\\"\\>', \"\", body)\n",
    "body2"
   ]
  },
  {
   "cell_type": "code",
   "execution_count": null,
   "metadata": {},
   "outputs": [],
   "source": [
    "# Using regex to remove patterns found in the text.\n",
    "body3 = re.sub(\"\\<\\/p\\>\", \"\", body2)\n",
    "body3"
   ]
  },
  {
   "cell_type": "code",
   "execution_count": null,
   "metadata": {},
   "outputs": [],
   "source": [
    "# Using regex to remove patterns found in the text.\n",
    "# <a href=\"https://therevolvingdoorproject.org/how-blackrock-is-on-track-to-infiltrate-a-biden-administration/\" target=\"_blank\">\n",
    "# <a href=\"https://apnews.com/article/4a58117c9bd1429c9764855e604a36b1\" target=\"_blank\">\n",
    "body4 = re.sub('\\<a\\shref\\=\\\"https\\:\\/+.+blank\\\"', \" \", body3)\n",
    "body4"
   ]
  },
  {
   "cell_type": "code",
   "execution_count": null,
   "metadata": {},
   "outputs": [],
   "source": [
    "# Using regex to remove patterns found in the text.\n",
    "f1 = '\\['\n",
    "f2 = '\\]'\n",
    "f3 = '>'\n",
    "f4 = '\\<\\/a\\>'\n",
    "\n",
    "comb = '(%s|%s|%s|%s)' %(f1, f2, f3, f4) # Combining the three regex statements with an or (|)\n",
    "body5 = re.sub(comb, \"\", body4)\n",
    "body5"
   ]
  },
  {
   "cell_type": "code",
   "execution_count": null,
   "metadata": {},
   "outputs": [],
   "source": [
    "# Using regex to remove patterns found in the text.\n",
    "body6 = re.sub('\\.\\s?\\,\\s', \". \", body5)\n",
    "body6"
   ]
  }
 ],
 "metadata": {
  "kernelspec": {
   "display_name": "Python 3",
   "language": "python",
   "name": "python3"
  },
  "language_info": {
   "codemirror_mode": {
    "name": "ipython",
    "version": 3
   },
   "file_extension": ".py",
   "mimetype": "text/x-python",
   "name": "python",
   "nbconvert_exporter": "python",
   "pygments_lexer": "ipython3",
   "version": "3.6.12"
  }
 },
 "nbformat": 4,
 "nbformat_minor": 4
}
