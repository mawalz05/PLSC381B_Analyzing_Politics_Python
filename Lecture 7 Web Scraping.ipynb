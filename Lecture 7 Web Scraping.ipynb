{
 "cells": [
  {
   "cell_type": "code",
   "execution_count": null,
   "metadata": {},
   "outputs": [],
   "source": [
    "import requests\n",
    "from bs4 import BeautifulSoup\n",
    "\n",
    "url = 'https://www.politico.com/news/2020/11/25/biden-leans-toward-donilon-as-cia-chief-440669'\n",
    "\n",
    "# Extracting the html from the webpage\n",
    "wp = requests.get(url)\n",
    "\n",
    "#Parsing the HTML so it is readable in jupyter notebook\n",
    "soup = BeautifulSoup(wp.content, 'html.parser')\n",
    "soup"
   ]
  },
  {
   "cell_type": "code",
   "execution_count": null,
   "metadata": {},
   "outputs": [],
   "source": [
    "# Creating an object body that contains the attributes we are looking for\n",
    "body = soup.find_all('p', attrs={'class': 'story-text__paragraph'})"
   ]
  },
  {
   "cell_type": "code",
   "execution_count": null,
   "metadata": {},
   "outputs": [],
   "source": [
    "# Creating a string of the body and viewing the contents\n",
    "body = str(body)\n",
    "body"
   ]
  }
 ],
 "metadata": {
  "kernelspec": {
   "display_name": "Python 3",
   "language": "python",
   "name": "python3"
  },
  "language_info": {
   "codemirror_mode": {
    "name": "ipython",
    "version": 3
   },
   "file_extension": ".py",
   "mimetype": "text/x-python",
   "name": "python",
   "nbconvert_exporter": "python",
   "pygments_lexer": "ipython3",
   "version": "3.6.12"
  }
 },
 "nbformat": 4,
 "nbformat_minor": 4
}
