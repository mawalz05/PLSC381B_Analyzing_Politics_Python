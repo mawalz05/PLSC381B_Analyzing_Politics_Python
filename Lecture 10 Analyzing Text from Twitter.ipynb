{
 "cells": [
  {
   "cell_type": "code",
   "execution_count": null,
   "metadata": {},
   "outputs": [],
   "source": [
    "import pandas as pd\n",
    "\n",
    "df = pd.read_csv(r'https://raw.githubusercontent.com/mawalz05/PLSC381B_Analyzing_Politics_Python/main/20201130_183128_blm_tweets.csv')\n",
    "\n",
    "print(df.shape)\n",
    "df.head()"
   ]
  },
  {
   "cell_type": "code",
   "execution_count": null,
   "metadata": {},
   "outputs": [],
   "source": [
    "df['text']"
   ]
  },
  {
   "cell_type": "code",
   "execution_count": null,
   "metadata": {},
   "outputs": [],
   "source": [
    "# Extract first 10 observations to speed up the process\n",
    "df_10 = df[:10]"
   ]
  },
  {
   "cell_type": "code",
   "execution_count": null,
   "metadata": {},
   "outputs": [],
   "source": [
    "import nltk\n",
    "from nltk.corpus import stopwords\n",
    "from nltk.tokenize import word_tokenize\n",
    "nltk.download('wordnet')\n",
    "nltk.download('stopwords')\n",
    "\n",
    "# Use the nltk tokenizer to tokenize the words and create a new column\n",
    "df_10['tokens'] = df_10['text'].apply(word_tokenize)\n",
    "df_10['tokens']"
   ]
  },
  {
   "cell_type": "code",
   "execution_count": null,
   "metadata": {},
   "outputs": [],
   "source": [
    "# lowercase all words\n",
    "df_10['tokens'] = df_10['tokens'].apply(lambda x: [str.lower(word) for word in x])\n",
    "df_10['tokens']"
   ]
  },
  {
   "cell_type": "code",
   "execution_count": null,
   "metadata": {},
   "outputs": [],
   "source": [
    "# Removing the stop words from the tokens\n",
    "df_10['tokens'] = df_10['tokens'].apply(lambda x: [word for word in x if word not in stopwords.words('english')])\n",
    "df_10['tokens']"
   ]
  },
  {
   "cell_type": "code",
   "execution_count": null,
   "metadata": {},
   "outputs": [],
   "source": [
    "stopwords.words('english')"
   ]
  },
  {
   "cell_type": "code",
   "execution_count": null,
   "metadata": {},
   "outputs": [],
   "source": [
    "# Lemmatizing the tokens\n",
    "lemma = nltk.stem.WordNetLemmatizer()\n",
    "df_10['lem_tokens'] = df_10['tokens'].apply(lambda x: [lemma.lemmatize(word) for word in x])\n",
    "df_10['lem_tokens']"
   ]
  },
  {
   "cell_type": "code",
   "execution_count": null,
   "metadata": {},
   "outputs": [],
   "source": [
    "# Stemming the tokens (for automated response use)\n",
    "p_stemmer = nltk.stem.PorterStemmer()\n",
    "df_10['stem_tokens'] = df_10['tokens'].apply(lambda x: [p_stemmer.stem(word) for word in x])\n",
    "df_10['stem_tokens']"
   ]
  },
  {
   "cell_type": "code",
   "execution_count": null,
   "metadata": {},
   "outputs": [],
   "source": [
    "# Removing long words and short words\n",
    "df_10['tokens'] = df_10['tokens'].apply(lambda x: [word for word in x if len(word) < 20 and len(word) >= 3])\n",
    "df_10['tokens']"
   ]
  },
  {
   "cell_type": "code",
   "execution_count": null,
   "metadata": {},
   "outputs": [],
   "source": [
    "# Removing punctuation\n",
    "punct = [\",\" , \".\" , \":\" , \";\" , \"'\" , '\"', '!', '?', '--', '(', ')', '@']\n",
    "df_10['tokens'] = df_10['tokens'].apply(lambda x: [word for word in x if word not in punct])\n",
    "df_10['tokens']"
   ]
  },
  {
   "cell_type": "code",
   "execution_count": null,
   "metadata": {},
   "outputs": [],
   "source": [
    "def word_process_counts(df): \n",
    "# This function counts word frequencies, word proportions, and length of the tweet\n",
    "    def count_freq(tweet):\n",
    "        word_counts = {} # Create empty dictionary to host the word_counts\n",
    "        for word in tweet: # For every word in the tweet\n",
    "            if word in list(word_counts.keys()): # if the word is already a key\n",
    "                word_counts[word] += 1 # Add a 1 to that word's count\n",
    "            else:\n",
    "                word_counts[word] = 1 # Otherwise put a word for the new word to start the count\n",
    "        return word_counts\n",
    "    \n",
    "    def count_prop(tweet):\n",
    "        word_counts = {} # Create empty dictionary for word count\n",
    "        prop = {} # Create empty dictionary for proportions\n",
    "        total_count = len(tweet) # This is a count of all the words in the tweet\n",
    "        for word in tweet: # for every word in the tweet\n",
    "            if word in list(word_counts.keys()): #if the word is already a key\n",
    "                word_counts[word] += 1 # add a one to that word's count\n",
    "            else:\n",
    "                word_counts[word] = 1 # otherwise put a word for the new word to start the count\n",
    "        \n",
    "        for word in tweet: #for every word in the tweet\n",
    "            prop[word] = round(word_counts[word]/total_count, 2) #take the count for that word and divide it by the total count\n",
    "        return prop # Round the proportion count to the second decimal\n",
    "    \n",
    "    def total_length(tweet):\n",
    "        total_count = len(tweet) # Counts the number of words in the tweet\n",
    "        return total_count\n",
    "\n",
    "    df['word_counts'] = df['tokens'].apply(count_freq) # apply count_freq to the tokens column\n",
    "    df['word_proportions'] = df['tokens'].apply(count_prop) # apply count_prop to the tokens column\n",
    "    df['tweet_length'] = df['tokens'].apply(total_length) # apply total_length to the tokens column"
   ]
  },
  {
   "cell_type": "code",
   "execution_count": null,
   "metadata": {},
   "outputs": [],
   "source": [
    "# Running the function we just created\n",
    "word_process_counts(df_10)"
   ]
  },
  {
   "cell_type": "code",
   "execution_count": null,
   "metadata": {},
   "outputs": [],
   "source": [
    "df_10.head()"
   ]
  },
  {
   "cell_type": "code",
   "execution_count": null,
   "metadata": {},
   "outputs": [],
   "source": [
    "# Find the overall counts for all unique words in the df\n",
    "counts = df_10['tokens'].apply(pd.value_counts).sum()\n",
    "print(counts)"
   ]
  },
  {
   "cell_type": "code",
   "execution_count": null,
   "metadata": {},
   "outputs": [],
   "source": [
    "counts.sort_values(ascending = False)"
   ]
  }
 ],
 "metadata": {
  "kernelspec": {
   "display_name": "Python 3",
   "language": "python",
   "name": "python3"
  },
  "language_info": {
   "codemirror_mode": {
    "name": "ipython",
    "version": 3
   },
   "file_extension": ".py",
   "mimetype": "text/x-python",
   "name": "python",
   "nbconvert_exporter": "python",
   "pygments_lexer": "ipython3",
   "version": "3.6.12"
  }
 },
 "nbformat": 4,
 "nbformat_minor": 4
}
